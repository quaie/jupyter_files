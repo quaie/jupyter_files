{
  "nbformat": 4,
  "nbformat_minor": 0,
  "metadata": {
    "kernelspec": {
      "display_name": "Python 3",
      "language": "python",
      "name": "python3"
    },
    "language_info": {
      "codemirror_mode": {
        "name": "ipython",
        "version": 3
      },
      "file_extension": ".py",
      "mimetype": "text/x-python",
      "name": "python",
      "nbconvert_exporter": "python",
      "pygments_lexer": "ipython3",
      "version": "3.6.3"
    },
    "colab": {
      "name": "3_data_inputs_and_outputs.ipynb",
      "provenance": [],
      "include_colab_link": true
    }
  },
  "cells": [
    {
      "cell_type": "markdown",
      "metadata": {
        "id": "view-in-github",
        "colab_type": "text"
      },
      "source": [
        "<a href=\"https://colab.research.google.com/github/quaie/jupyter_files/blob/master/3_data_inputs_and_outputs.ipynb\" target=\"_parent\"><img src=\"https://colab.research.google.com/assets/colab-badge.svg\" alt=\"Open In Colab\"/></a>"
      ]
    },
    {
      "cell_type": "markdown",
      "metadata": {
        "id": "RuklIuUzm6tH",
        "colab_type": "text"
      },
      "source": [
        "# Reading and Writing Data with Spark\n",
        "\n",
        "This notebook contains the code from the previous screencast. The only difference is that instead of reading in a dataset from a remote cluster, the data set is read in from a local file. You can see the file by clicking on the \"jupyter\" icon and opening the folder titled \"data\".\n",
        "\n",
        "Run the code cell to see how everything works. \n",
        "\n",
        "First let's import SparkConf and SparkSession"
      ]
    },
    {
      "cell_type": "code",
      "metadata": {
        "id": "BmINxm70m6tI",
        "colab_type": "code",
        "colab": {}
      },
      "source": [
        "import pyspark\n",
        "from pyspark import SparkConf\n",
        "from pyspark.sql import SparkSession"
      ],
      "execution_count": null,
      "outputs": []
    },
    {
      "cell_type": "markdown",
      "metadata": {
        "id": "szi9lsFEm6tL",
        "colab_type": "text"
      },
      "source": [
        "Since we're using Spark locally we already have both a sparkcontext and a sparksession running. We can update some of the parameters, such our application's name. Let's just call it \"Our first Python Spark SQL example\""
      ]
    },
    {
      "cell_type": "code",
      "metadata": {
        "id": "sin5Mu0Dm6tM",
        "colab_type": "code",
        "colab": {}
      },
      "source": [
        "spark = SparkSession \\\n",
        "    .builder \\\n",
        "    .appName(\"Our first Python Spark SQL example\") \\\n",
        "    .getOrCreate()"
      ],
      "execution_count": null,
      "outputs": []
    },
    {
      "cell_type": "markdown",
      "metadata": {
        "id": "Jy7aq0YGm6tO",
        "colab_type": "text"
      },
      "source": [
        "Let's check if the change went through"
      ]
    },
    {
      "cell_type": "code",
      "metadata": {
        "id": "abU7RB0Im6tP",
        "colab_type": "code",
        "colab": {}
      },
      "source": [
        "spark.sparkContext.getConf().getAll()"
      ],
      "execution_count": null,
      "outputs": []
    },
    {
      "cell_type": "code",
      "metadata": {
        "id": "s702Dh02m6tU",
        "colab_type": "code",
        "colab": {}
      },
      "source": [
        "spark"
      ],
      "execution_count": null,
      "outputs": []
    },
    {
      "cell_type": "markdown",
      "metadata": {
        "id": "DYaIbfaGm6tX",
        "colab_type": "text"
      },
      "source": [
        "As you can see the app name is exactly how we set it\n",
        "\n",
        "Let's create our first dataframe from a fairly small sample data set. Througout the course we'll work with a log file data set that describes user interactions with a music streaming service. The records describe events such as logging in to the site, visiting a page, listening to the next song, seeing an ad."
      ]
    },
    {
      "cell_type": "code",
      "metadata": {
        "id": "VAKE9523m-rg",
        "colab_type": "code",
        "colab": {
          "base_uri": "https://localhost:8080/",
          "height": 336
        },
        "outputId": "b95cec88-dc5d-416b-9fac-91a27550129e"
      },
      "source": [
        "!ls\n",
        "!wget https://github.com/maleckicoa/Sparkify-Project/raw/master/mini_sparkify_event_data.zip\n",
        "!unzip mini_sparkify_event_data.zip"
      ],
      "execution_count": 22,
      "outputs": [
        {
          "output_type": "stream",
          "text": [
            "sample_data\n",
            "--2020-08-07 11:09:28--  https://github.com/maleckicoa/Sparkify-Project/raw/master/mini_sparkify_event_data.zip\n",
            "Resolving github.com (github.com)... 140.82.113.3\n",
            "Connecting to github.com (github.com)|140.82.113.3|:443... connected.\n",
            "HTTP request sent, awaiting response... 302 Found\n",
            "Location: https://raw.githubusercontent.com/maleckicoa/Sparkify-Project/master/mini_sparkify_event_data.zip [following]\n",
            "--2020-08-07 11:09:29--  https://raw.githubusercontent.com/maleckicoa/Sparkify-Project/master/mini_sparkify_event_data.zip\n",
            "Resolving raw.githubusercontent.com (raw.githubusercontent.com)... 151.101.0.133, 151.101.64.133, 151.101.128.133, ...\n",
            "Connecting to raw.githubusercontent.com (raw.githubusercontent.com)|151.101.0.133|:443... connected.\n",
            "HTTP request sent, awaiting response... 200 OK\n",
            "Length: 10264879 (9.8M) [application/zip]\n",
            "Saving to: ‘mini_sparkify_event_data.zip’\n",
            "\n",
            "mini_sparkify_event 100%[===================>]   9.79M  18.7MB/s    in 0.5s    \n",
            "\n",
            "2020-08-07 11:09:30 (18.7 MB/s) - ‘mini_sparkify_event_data.zip’ saved [10264879/10264879]\n",
            "\n",
            "Archive:  mini_sparkify_event_data.zip\n",
            "  inflating: mini_sparkify_event_data.json  \n"
          ],
          "name": "stdout"
        }
      ]
    },
    {
      "cell_type": "code",
      "metadata": {
        "id": "ILIGQSYLorK3",
        "colab_type": "code",
        "colab": {}
      },
      "source": [
        "!head -500 mini_sparkify_event_data.json > micro_sparkify_event_data.json"
      ],
      "execution_count": 31,
      "outputs": []
    },
    {
      "cell_type": "code",
      "metadata": {
        "id": "SUfewGOwnNU3",
        "colab_type": "code",
        "colab": {
          "base_uri": "https://localhost:8080/",
          "height": 34
        },
        "outputId": "eb8863b1-099e-4cd3-b577-abdf6ae9a4c0"
      },
      "source": [
        "!ls"
      ],
      "execution_count": 27,
      "outputs": [
        {
          "output_type": "stream",
          "text": [
            "mini_sparkify_event_data.json  mini_sparkify_event_data.zip  sample_data\n"
          ],
          "name": "stdout"
        }
      ]
    },
    {
      "cell_type": "code",
      "metadata": {
        "id": "RIDGmmo6m6tY",
        "colab_type": "code",
        "colab": {}
      },
      "source": [
        "path = \"./micro_sparkify_event_data.json\"\n",
        "user_log = spark.read.json(path)"
      ],
      "execution_count": 32,
      "outputs": []
    },
    {
      "cell_type": "code",
      "metadata": {
        "id": "fJXN96c8m6ta",
        "colab_type": "code",
        "colab": {
          "base_uri": "https://localhost:8080/",
          "height": 353
        },
        "outputId": "5d546da2-a904-439b-d898-3d1ede7155dc"
      },
      "source": [
        "user_log.printSchema()"
      ],
      "execution_count": 33,
      "outputs": [
        {
          "output_type": "stream",
          "text": [
            "root\n",
            " |-- artist: string (nullable = true)\n",
            " |-- auth: string (nullable = true)\n",
            " |-- firstName: string (nullable = true)\n",
            " |-- gender: string (nullable = true)\n",
            " |-- itemInSession: long (nullable = true)\n",
            " |-- lastName: string (nullable = true)\n",
            " |-- length: double (nullable = true)\n",
            " |-- level: string (nullable = true)\n",
            " |-- location: string (nullable = true)\n",
            " |-- method: string (nullable = true)\n",
            " |-- page: string (nullable = true)\n",
            " |-- registration: long (nullable = true)\n",
            " |-- sessionId: long (nullable = true)\n",
            " |-- song: string (nullable = true)\n",
            " |-- status: long (nullable = true)\n",
            " |-- ts: long (nullable = true)\n",
            " |-- userAgent: string (nullable = true)\n",
            " |-- userId: string (nullable = true)\n",
            "\n"
          ],
          "name": "stdout"
        }
      ]
    },
    {
      "cell_type": "code",
      "metadata": {
        "id": "Q3N9KI02m6tc",
        "colab_type": "code",
        "colab": {
          "base_uri": "https://localhost:8080/",
          "height": 54
        },
        "outputId": "ca8eddc5-9e61-475f-cbac-8ae59197b6f7"
      },
      "source": [
        "user_log.describe()"
      ],
      "execution_count": 34,
      "outputs": [
        {
          "output_type": "execute_result",
          "data": {
            "text/plain": [
              "DataFrame[summary: string, artist: string, auth: string, firstName: string, gender: string, itemInSession: string, lastName: string, length: string, level: string, location: string, method: string, page: string, registration: string, sessionId: string, song: string, status: string, ts: string, userAgent: string, userId: string]"
            ]
          },
          "metadata": {
            "tags": []
          },
          "execution_count": 34
        }
      ]
    },
    {
      "cell_type": "code",
      "metadata": {
        "id": "UUM31-vlm6te",
        "colab_type": "code",
        "colab": {
          "base_uri": "https://localhost:8080/",
          "height": 171
        },
        "outputId": "58252bc0-fe97-46a3-e5d9-e6a4595a0fd0"
      },
      "source": [
        "user_log.show(n=2)"
      ],
      "execution_count": 36,
      "outputs": [
        {
          "output_type": "stream",
          "text": [
            "+----------------+---------+---------+------+-------------+--------+---------+-----+--------------------+------+--------+-------------+---------+---------+------+-------------+--------------------+------+\n",
            "|          artist|     auth|firstName|gender|itemInSession|lastName|   length|level|            location|method|    page| registration|sessionId|     song|status|           ts|           userAgent|userId|\n",
            "+----------------+---------+---------+------+-------------+--------+---------+-----+--------------------+------+--------+-------------+---------+---------+------+-------------+--------------------+------+\n",
            "|  Martha Tilston|Logged In|    Colin|     M|           50| Freeman|277.89016| paid|     Bakersfield, CA|   PUT|NextSong|1538173362000|       29|Rockpools|   200|1538352117000|Mozilla/5.0 (Wind...|    30|\n",
            "|Five Iron Frenzy|Logged In|    Micah|     M|           79|    Long|236.09424| free|Boston-Cambridge-...|   PUT|NextSong|1538331630000|        8|   Canada|   200|1538352180000|\"Mozilla/5.0 (Win...|     9|\n",
            "+----------------+---------+---------+------+-------------+--------+---------+-----+--------------------+------+--------+-------------+---------+---------+------+-------------+--------------------+------+\n",
            "only showing top 2 rows\n",
            "\n"
          ],
          "name": "stdout"
        }
      ]
    },
    {
      "cell_type": "code",
      "metadata": {
        "id": "GxSMkj2Im6th",
        "colab_type": "code",
        "colab": {
          "base_uri": "https://localhost:8080/",
          "height": 121
        },
        "outputId": "b56ad4e2-088b-4d4b-dfe2-57eedad8f8bc"
      },
      "source": [
        "user_log.take(5)"
      ],
      "execution_count": 37,
      "outputs": [
        {
          "output_type": "execute_result",
          "data": {
            "text/plain": [
              "[Row(artist='Martha Tilston', auth='Logged In', firstName='Colin', gender='M', itemInSession=50, lastName='Freeman', length=277.89016, level='paid', location='Bakersfield, CA', method='PUT', page='NextSong', registration=1538173362000, sessionId=29, song='Rockpools', status=200, ts=1538352117000, userAgent='Mozilla/5.0 (Windows NT 6.1; WOW64; rv:31.0) Gecko/20100101 Firefox/31.0', userId='30'),\n",
              " Row(artist='Five Iron Frenzy', auth='Logged In', firstName='Micah', gender='M', itemInSession=79, lastName='Long', length=236.09424, level='free', location='Boston-Cambridge-Newton, MA-NH', method='PUT', page='NextSong', registration=1538331630000, sessionId=8, song='Canada', status=200, ts=1538352180000, userAgent='\"Mozilla/5.0 (Windows NT 6.1; WOW64) AppleWebKit/537.36 (KHTML, like Gecko) Chrome/37.0.2062.103 Safari/537.36\"', userId='9'),\n",
              " Row(artist='Adam Lambert', auth='Logged In', firstName='Colin', gender='M', itemInSession=51, lastName='Freeman', length=282.8273, level='paid', location='Bakersfield, CA', method='PUT', page='NextSong', registration=1538173362000, sessionId=29, song='Time For Miracles', status=200, ts=1538352394000, userAgent='Mozilla/5.0 (Windows NT 6.1; WOW64; rv:31.0) Gecko/20100101 Firefox/31.0', userId='30'),\n",
              " Row(artist='Enigma', auth='Logged In', firstName='Micah', gender='M', itemInSession=80, lastName='Long', length=262.71302, level='free', location='Boston-Cambridge-Newton, MA-NH', method='PUT', page='NextSong', registration=1538331630000, sessionId=8, song='Knocking On Forbidden Doors', status=200, ts=1538352416000, userAgent='\"Mozilla/5.0 (Windows NT 6.1; WOW64) AppleWebKit/537.36 (KHTML, like Gecko) Chrome/37.0.2062.103 Safari/537.36\"', userId='9'),\n",
              " Row(artist='Daft Punk', auth='Logged In', firstName='Colin', gender='M', itemInSession=52, lastName='Freeman', length=223.60771, level='paid', location='Bakersfield, CA', method='PUT', page='NextSong', registration=1538173362000, sessionId=29, song='Harder Better Faster Stronger', status=200, ts=1538352676000, userAgent='Mozilla/5.0 (Windows NT 6.1; WOW64; rv:31.0) Gecko/20100101 Firefox/31.0', userId='30')]"
            ]
          },
          "metadata": {
            "tags": []
          },
          "execution_count": 37
        }
      ]
    },
    {
      "cell_type": "code",
      "metadata": {
        "id": "9T0xVcjtm6tk",
        "colab_type": "code",
        "colab": {}
      },
      "source": [
        "out_path = \"data/sparkify_log_small.csv\""
      ],
      "execution_count": null,
      "outputs": []
    },
    {
      "cell_type": "code",
      "metadata": {
        "id": "dc_38YUhm6tm",
        "colab_type": "code",
        "colab": {}
      },
      "source": [
        "user_log.write.save(out_path, format=\"csv\", header=True)"
      ],
      "execution_count": null,
      "outputs": []
    },
    {
      "cell_type": "code",
      "metadata": {
        "id": "yXVUU-INm6tp",
        "colab_type": "code",
        "colab": {}
      },
      "source": [
        "user_log_2 = spark.read.csv(out_path, header=True)"
      ],
      "execution_count": null,
      "outputs": []
    },
    {
      "cell_type": "code",
      "metadata": {
        "id": "40ZzwEu3m6tr",
        "colab_type": "code",
        "colab": {}
      },
      "source": [
        "user_log_2.printSchema()"
      ],
      "execution_count": null,
      "outputs": []
    },
    {
      "cell_type": "code",
      "metadata": {
        "id": "lw53O_b6m6tu",
        "colab_type": "code",
        "colab": {}
      },
      "source": [
        "user_log_2.take(2)"
      ],
      "execution_count": null,
      "outputs": []
    },
    {
      "cell_type": "code",
      "metadata": {
        "id": "ReR8siR0m6tw",
        "colab_type": "code",
        "colab": {}
      },
      "source": [
        "user_log_2.select(\"userID\").show()"
      ],
      "execution_count": null,
      "outputs": []
    },
    {
      "cell_type": "code",
      "metadata": {
        "id": "8f7ms3BQm6ty",
        "colab_type": "code",
        "colab": {}
      },
      "source": [
        "user_log_2.take(1)"
      ],
      "execution_count": null,
      "outputs": []
    },
    {
      "cell_type": "code",
      "metadata": {
        "id": "Jcp6Vs_2m6t1",
        "colab_type": "code",
        "colab": {}
      },
      "source": [
        "!head -100 data/sparkify_log_small.json"
      ],
      "execution_count": null,
      "outputs": []
    },
    {
      "cell_type": "code",
      "metadata": {
        "id": "-XG9XLS3m6t2",
        "colab_type": "code",
        "colab": {}
      },
      "source": [
        ""
      ],
      "execution_count": null,
      "outputs": []
    }
  ]
}